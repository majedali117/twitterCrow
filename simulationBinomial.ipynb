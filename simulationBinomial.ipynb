{
 "cells": [
  {
   "cell_type": "code",
   "execution_count": 1,
   "metadata": {},
   "outputs": [],
   "source": [
    "import numpy as np\n",
    "from random import randrange, uniform\n",
    "import matplotlib.pyplot as plt\n",
    "from scipy.stats import truncnorm"
   ]
  },
  {
   "cell_type": "code",
   "execution_count": 2,
   "metadata": {},
   "outputs": [],
   "source": [
    "np_tweets=100\n",
    "np_topics=10\n",
    "nb_annotators=15\n",
    "nb_labels=4\n",
    "\n",
    "tweets_topics=np.zeros((np_topics,np_tweets))\n",
    "\n",
    "items = [0.1,0.2,0.3,0.4,0.5,0.6,0.7,0.8,0.9]\n",
    "for i in range(0,np_tweets):\n",
    "  sum=0\n",
    "  while(sum<1):\n",
    "   topic=randrange(np_topics)\n",
    "   if sum<1:\n",
    "      items=[]\n",
    "      k=0.1\n",
    "      while(k<1-sum+0.1):\n",
    "          items.append(k)\n",
    "          k=round(k+0.1,1)\n",
    "   rand_item =round( items[randrange(len(items))],1)\n",
    "   if tweets_topics[topic,i]==0.0:\n",
    "    tweets_topics[topic,i]=rand_item\n",
    "    sum=round(sum+rand_item,1)\n",
    "    #print(sum)\n",
    "#print ('tweets_topics array')\n",
    "#print (tweets_topics)\n",
    "\n",
    "topics=[]\n",
    "topics=np.zeros(np_topics)\n",
    "for i in range(0,np_topics):\n",
    "    for j in range(0,np_tweets):\n",
    "        topics[i]=topics[i]+tweets_topics[i,j]\n",
    "#print('topics',topics)\n",
    "\n",
    "\n",
    "x=[]\n",
    "likelihood=[]\n",
    "annt_responses=np.zeros((nb_annotators,np_tweets))\n",
    "annt_topics=np.full((nb_annotators,np_topics),1.0)"
   ]
  },
  {
   "cell_type": "code",
   "execution_count": 4,
   "metadata": {},
   "outputs": [
    {
     "name": "stdout",
     "output_type": "stream",
     "text": [
      "groundTruth [3, 3, 1, 4, 2, 2, 4, 3, 4, 1, 3, 3, 3, 2, 4, 4, 3, 1, 4, 2, 4, 1, 1, 3, 1, 4, 1, 2, 4, 4, 1, 4, 4, 1, 2, 2, 2, 4, 1, 2, 3, 2, 4, 1, 1, 1, 4, 3, 2, 2, 2, 3, 4, 1, 4, 4, 3, 4, 4, 4, 1, 3, 1, 1, 4, 3, 2, 2, 4, 3, 2, 1, 4, 1, 2, 1, 1, 4, 4, 1, 3, 3, 4, 3, 2, 2, 2, 1, 4, 2, 3, 4, 3, 3, 1, 1, 3, 1, 1, 3]\n"
     ]
    }
   ],
   "source": [
    "groundTruth=[]\n",
    "for c in range(0,np_tweets):\n",
    "    groundTruth.append(randrange(1,nb_labels+1,1))\n",
    "print('groundTruth',groundTruth)"
   ]
  },
  {
   "cell_type": "code",
   "execution_count": 6,
   "metadata": {},
   "outputs": [],
   "source": [
    "for m in range(0,nb_annotators):\n",
    " done=False\n",
    " while(done==False):\n",
    "   val=np.random.normal(0.6, 0.3,1)#the accurcy for each annotater\n",
    "   if val>0 and val<1:\n",
    "       x.append(val)\n",
    "       done=True"
   ]
  },
  {
   "cell_type": "code",
   "execution_count": 9,
   "metadata": {},
   "outputs": [
    {
     "name": "stdout",
     "output_type": "stream",
     "text": [
      "[array([0.38803043]), array([0.55765854]), array([0.53873284]), array([0.4155723]), array([0.46951099]), array([0.61808876]), array([0.33675946]), array([0.44800386]), array([0.75267849]), array([0.41159811]), array([0.41643392]), array([0.40813428]), array([0.53615218]), array([0.43781753]), array([0.44752083]), array([0.11416424]), array([0.19891894]), array([0.3741544]), array([0.65194298]), array([0.14621934]), array([0.60137242]), array([0.84408131]), array([0.44610271]), array([0.93375454]), array([0.08942235]), array([0.21207946]), array([0.47549988]), array([0.2260297]), array([0.56704677]), array([0.28181093]), array([0.28453976]), array([0.64583553]), array([0.35873578]), array([0.62657585]), array([0.55032018]), array([0.52911955]), array([0.33869462]), array([0.5881967]), array([0.28412554]), array([0.58168294]), array([0.65520619]), array([0.19060749]), array([0.38880107]), array([0.32195528]), array([0.92990313])]\n"
     ]
    }
   ],
   "source": [
    "for m in range(0,nb_annotators):\n",
    " done=False\n",
    " while(done==False):\n",
    "   val=np.random.normal(0.5, 0.3,1)#the Likelihood of response for each annotater\n",
    "   if val>0 and val<1:\n",
    "       likelihood.append(val)\n",
    "       done=True\n",
    "\n",
    "print(likelihood)       \n",
    "for m in range(0,nb_annotators):\n",
    "  done=False\n",
    "  while(done==False):\n",
    "  \n",
    "   if x[m]>0 and x[m]<1:\n",
    "    correct=np.random.binomial(1,x[m],np_tweets)\n",
    "    for i in range(0,np_tweets):\n",
    "        annotate=np.random.binomial(1,likelihood[m],1)\n",
    "        if (annotate[0]!=0):\n",
    "         #print('annotate',annotate[0],m,i)\n",
    "         if correct[0]==1:   \n",
    "          annt_responses[m,i]=groundTruth[i]\n",
    "          for c in range(0,np_topics):\n",
    "                if tweets_topics[c,i]!=0:\n",
    "                    annt_topics[m,c]=round(annt_topics[m,c]+(tweets_topics[c,i]/topics[c]),2)\n",
    "                    #print('here5',tweets_topics[c,i]/topics[c],c,i)\n",
    "                    \n",
    "                    #print('here',annt_topics[m,c],m,c)\n",
    "         else:\n",
    "           #print('not correct',m)\n",
    "           annt_responses[m,i]=randrange(1,nb_labels+1,1)  \n",
    "           if annt_responses[m,i]==groundTruth[i]:\n",
    "               for c in range(0,np_topics):\n",
    "                if tweets_topics[c,i]!=0:\n",
    "                    annt_topics[m,c]=round(annt_topics[m,c]+(tweets_topics[c,i]/topics[c]),2)\n",
    "                    #print('here22',tweets_topics[c,i]/topics[c],c,i)\n",
    "                    \n",
    "                    #print('here2',annt_topics[m,c],m,c)\n",
    "           else:\n",
    "               for c in range(0,np_topics):\n",
    "                if tweets_topics[c,i]!=0:\n",
    "                    annt_topics[m,c]=round(annt_topics[m,c]-(tweets_topics[c,i]/topics[c]),2)\n",
    "                    #print('here32',tweets_topics[c,i]/topics[c],c,i)\n",
    "                    #print('here3',annt_topics[m,c],m,c)\n",
    "             \n",
    "   done=True"
   ]
  },
  {
   "cell_type": "code",
   "execution_count": 10,
   "metadata": {},
   "outputs": [
    {
     "name": "stdout",
     "output_type": "stream",
     "text": [
      "annotators responses\n",
      "[[4. 0. 0. ... 0. 3. 0.]\n",
      " [0. 3. 0. ... 0. 0. 3.]\n",
      " [1. 0. 2. ... 4. 0. 1.]\n",
      " ...\n",
      " [0. 0. 1. ... 4. 4. 0.]\n",
      " [0. 0. 0. ... 1. 0. 3.]\n",
      " [2. 0. 2. ... 0. 3. 0.]]\n"
     ]
    }
   ],
   "source": [
    "print('annotators ''responses')\n",
    "print(annt_responses)"
   ]
  },
  {
   "cell_type": "code",
   "execution_count": 11,
   "metadata": {},
   "outputs": [],
   "source": [
    "annt_tpc=np.full((nb_annotators,np_topics),1.0)\n",
    "agree=[]\n",
    "totalsim=0\n",
    "trueLabels=[]\n",
    "for i in range(0,nb_annotators):\n",
    " agreement=0\n",
    " for j in range(0,nb_annotators):\n",
    "    for z in range(0,np_tweets):\n",
    "      if annt_responses[i][z]!=0:\n",
    "       if annt_responses[i][z]==annt_responses[j][z] and i!=j:\n",
    "         #print('here',i,j)\n",
    "         agreement=agreement+1\n",
    " agree.append(agreement/(nb_annotators-1))\n",
    " totalsim=totalsim+agreement/(nb_annotators-1)\n",
    "#print(agree)\n",
    "\n",
    "for i in range(0,np_tweets):\n",
    " highsim=0.0\n",
    " truelabel=0\n",
    " for label in range(1,nb_labels+1):\n",
    "     sim=0.0\n",
    "     for j in range(0,nb_annotators):\n",
    "         if annt_responses[j][i]==label:\n",
    "             #sim=sim+agree[j]\n",
    "             for c in range(0,np_topics):\n",
    "              if tweets_topics[c,i]!=0:\n",
    "               sim=sim+(agree[j]*annt_tpc[j,c])\n",
    "     if highsim<sim:\n",
    "         truelabel=label\n",
    "         highsim=sim\n",
    " #print(\"highsim\")\n",
    " #print(highsim, truelabel)        \n",
    " trueLabels.append(truelabel)\n",
    " if (annt_responses[j][i]==trueLabels[i]) :\n",
    "          for c in range(0,np_topics):\n",
    "              if tweets_topics[c,i]!=0:\n",
    "                annt_tpc[j,c]=round(annt_tpc[j,c]+(tweets_topics[c,i]/topics[c]),2)\n",
    " else:\n",
    "         for c in range(0,np_topics):\n",
    "              if tweets_topics[c,i]!=0:\n",
    "                annt_tpc[j,c]=round(annt_tpc[j,c]-(tweets_topics[c,i]/topics[c]),2)\n",
    "#print('annt_tps')\n",
    "#print(annt_topics)\n",
    "#print(annt_tpc)"
   ]
  },
  {
   "cell_type": "code",
   "execution_count": 12,
   "metadata": {},
   "outputs": [
    {
     "name": "stdout",
     "output_type": "stream",
     "text": [
      "the groud truth\n",
      "[3, 3, 1, 4, 2, 2, 4, 3, 4, 1, 3, 3, 3, 2, 4, 4, 3, 1, 4, 2, 4, 1, 1, 3, 1, 4, 1, 2, 4, 4, 1, 4, 4, 1, 2, 2, 2, 4, 1, 2, 3, 2, 4, 1, 1, 1, 4, 3, 2, 2, 2, 3, 4, 1, 4, 4, 3, 4, 4, 4, 1, 3, 1, 1, 4, 3, 2, 2, 4, 3, 2, 1, 4, 1, 2, 1, 1, 4, 4, 1, 3, 3, 4, 3, 2, 2, 2, 1, 4, 2, 3, 4, 3, 3, 1, 1, 3, 1, 1, 3]\n",
      "the estimated labels\n",
      "[3, 3, 1, 4, 2, 2, 4, 3, 4, 1, 3, 3, 3, 2, 4, 4, 3, 1, 4, 2, 4, 1, 3, 3, 1, 4, 1, 2, 4, 4, 1, 4, 4, 1, 2, 2, 2, 4, 1, 2, 3, 4, 4, 1, 1, 1, 2, 3, 2, 2, 2, 3, 4, 1, 4, 4, 3, 4, 4, 4, 1, 3, 1, 1, 4, 3, 2, 2, 4, 4, 2, 1, 4, 2, 2, 1, 1, 4, 4, 4, 3, 3, 4, 3, 2, 2, 1, 1, 4, 2, 3, 2, 3, 3, 1, 3, 3, 1, 1, 3]\n",
      "majority_voting\n",
      "[1, 3, 1, 4, 2, 2, 4, 3, 1, 1, 3, 3, 3, 2, 4, 4, 3, 1, 4, 2, 4, 1, 3, 3, 1, 4, 1, 2, 4, 4, 1, 1, 4, 1, 2, 1, 2, 4, 1, 2, 3, 4, 4, 1, 1, 1, 1, 3, 2, 2, 2, 3, 4, 1, 4, 4, 3, 4, 4, 4, 1, 4, 1, 1, 4, 3, 2, 2, 4, 4, 2, 1, 4, 2, 2, 1, 1, 4, 4, 4, 3, 3, 4, 3, 2, 2, 1, 1, 3, 2, 3, 2, 3, 3, 4, 3, 3, 1, 3, 3]\n"
     ]
    }
   ],
   "source": [
    "majority_voting=[]\n",
    "for j in range(0,np_tweets):\n",
    "        high=0\n",
    "        s=0\n",
    "        for x in range(1,nb_labels+1):\n",
    "         s=0\n",
    "         for i in range(0,nb_annotators):\n",
    "            if annt_responses[i][j]==x:\n",
    "                s=s+1\n",
    "         if s>high:\n",
    "          high=s\n",
    "          majority=x\n",
    "        majority_voting.append(majority)  \n",
    "#======================================================                \n",
    "print (\"the groud truth\")\n",
    "print(groundTruth)\n",
    "print (\"the estimated labels\")\n",
    "print(trueLabels)\n",
    "print('majority_voting')\n",
    "print(majority_voting)\n"
   ]
  },
  {
   "cell_type": "code",
   "execution_count": 13,
   "metadata": {},
   "outputs": [
    {
     "name": "stdout",
     "output_type": "stream",
     "text": [
      "accuracy of algo 0.91\n",
      "accuracy of MV 0.91\n"
     ]
    }
   ],
   "source": [
    "hits_algo1=0\n",
    "hits_MV=0\n",
    "for i in range(0,np_tweets):\n",
    "    if groundTruth[i]==trueLabels[i]:\n",
    "        hits_algo1=hits_algo1+1\n",
    "    if majority_voting[i]==trueLabels[i]:\n",
    "        hits_MV=hits_MV+1\n",
    "print('accuracy of algo',hits_algo1/np_tweets)\n",
    "print('accuracy of MV',hits_MV/np_tweets)   "
   ]
  },
  {
   "cell_type": "code",
   "execution_count": null,
   "metadata": {},
   "outputs": [],
   "source": []
  }
 ],
 "metadata": {
  "kernelspec": {
   "display_name": "Python 3",
   "language": "python",
   "name": "python3"
  },
  "language_info": {
   "codemirror_mode": {
    "name": "ipython",
    "version": 3
   },
   "file_extension": ".py",
   "mimetype": "text/x-python",
   "name": "python",
   "nbconvert_exporter": "python",
   "pygments_lexer": "ipython3",
   "version": "3.6.5"
  }
 },
 "nbformat": 4,
 "nbformat_minor": 2
}
