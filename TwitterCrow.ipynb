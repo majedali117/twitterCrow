{
 "cells": [
  {
   "cell_type": "code",
   "execution_count": 76,
   "metadata": {
    "scrolled": true
   },
   "outputs": [
    {
     "name": "stdout",
     "output_type": "stream",
     "text": [
      "@_Majed_Ali positive by test2\n",
      "@_Majed_Ali positive by test2\n",
      "@_Majed_Ali 2 by Myan Le\n",
      "@_Majed_Ali 3 by Ahmad Abdullah Tariq\n",
      "@_Majed_Ali to be continued.... by Myan Le\n",
      "@_Majed_Ali I am commenting your another tweet from Python... by Myan Le\n",
      "@_Majed_Ali Cool! by Myan Le\n",
      "@_Majed_Ali Fighting! :D by Myan Le\n",
      "@_Majed_Ali to be continued.... by Myan Le\n"
     ]
    }
   ],
   "source": [
    "import sys\n",
    "import json\n",
    "import time\n",
    "import logging\n",
    "import twitter\n",
    "import urllib.parse\n",
    "\n",
    "from os import environ as e\n",
    "\n",
    "t = twitter.Api(\n",
    "    consumer_key=\"Z1NihAjRxYkMOvBqBduU7DVzk\",\n",
    "    consumer_secret=\"sMI1MTaigTXGxPsy8UYxmvls09xBVt8Ee4djJbiZB7jH2Gtrew\",\n",
    "    access_token_key=\"994429576557326336-dpBzm8r9gLQRymZJUYnoXsDlmz9m6IR\",\n",
    "    access_token_secret=\"eqLHK9F9GfZ02hvB3R0fJoOF8CanR6PiIzWouXCQz1Xlf\",\n",
    "    sleep_on_rate_limit=True\n",
    ")\n",
    "\n",
    "def tweet_url(t):\n",
    "    return \"https://twitter.com/%s/status/%s\" % (t.user.screen_name, t.id)\n",
    "\n",
    "def get_tweets(filename):\n",
    "    for line in open(filename):\n",
    "        yield twitter.Status.NewFromJsonDict(json.loads(line))\n",
    "\n",
    "def get_replies(tweet):\n",
    "    user = tweet.user.screen_name\n",
    "    tweet_id = tweet.id\n",
    "    max_id = None\n",
    "    logging.info(\"looking for replies to: %s\" % tweet_url(tweet))\n",
    "    while True:\n",
    "        q = urllib.parse.urlencode({\"q\": \"to:%s\" % user})\n",
    "        try:\n",
    "            replies = t.GetSearch(raw_query=q, since_id=tweet_id, max_id=max_id, count=100)\n",
    "        except twitter.error.TwitterError as e:\n",
    "            logging.error(\"caught twitter api error: %s\", e)\n",
    "            time.sleep(60)\n",
    "            continue\n",
    "        for reply in replies:\n",
    "            logging.info(\"examining: %s\" % tweet_url(reply))\n",
    "            if reply.in_reply_to_status_id == tweet_id:\n",
    "                logging.info(\"found reply: %s\" % tweet_url(reply))\n",
    "                yield reply\n",
    "                # recursive magic to also get the replies to this reply\n",
    "                for reply_to_reply in get_replies(reply):\n",
    "                    yield reply_to_reply\n",
    "            max_id = reply.id\n",
    "        if len(replies) != 100:\n",
    "            break\n",
    "\n",
    "if __name__ == \"__main__\":\n",
    "    #status = t.PostUpdate('Test tweet from kMd lab')\n",
    "    #print(status.id)\n",
    "    #id = str(status.id)\n",
    "    #with open('tweets.data', 'a') as the_file:\n",
    "      #the_file.writelines('\\n{\"user\":{\"screen_name\":\"'+status.user.screen_name+'\"},\"id\":'+ id +'}')\n",
    "    logging.basicConfig(filename=\"replies.log\", level=logging.INFO)\n",
    "    tweets_file = \"tweets.data\" \n",
    "    for tweet in get_tweets(tweets_file):\n",
    "        for reply in get_replies(tweet):\n",
    "            #print(reply.AsJsonString())\n",
    "            print(reply.text +\" by \"+ reply.user.name)\n",
    "            "
   ]
  },
  {
   "cell_type": "code",
   "execution_count": null,
   "metadata": {},
   "outputs": [],
   "source": []
  }
 ],
 "metadata": {
  "kernelspec": {
   "display_name": "Python 3",
   "language": "python",
   "name": "python3"
  },
  "language_info": {
   "codemirror_mode": {
    "name": "ipython",
    "version": 3
   },
   "file_extension": ".py",
   "mimetype": "text/x-python",
   "name": "python",
   "nbconvert_exporter": "python",
   "pygments_lexer": "ipython3",
   "version": "3.6.5"
  }
 },
 "nbformat": 4,
 "nbformat_minor": 2
}
