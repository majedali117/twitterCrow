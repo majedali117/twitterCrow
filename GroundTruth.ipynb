{
 "cells": [
  {
   "cell_type": "code",
   "execution_count": 1,
   "metadata": {},
   "outputs": [],
   "source": [
    "import pandas as pd\n",
    "import re"
   ]
  },
  {
   "cell_type": "code",
   "execution_count": 12,
   "metadata": {},
   "outputs": [
    {
     "name": "stdout",
     "output_type": "stream",
     "text": [
      "       airline_sentiment                                               text\n",
      "0                      0                @VirginAmerica What @dhepburn said.\n",
      "1                      1  @VirginAmerica plus you've added commercials t...\n",
      "2                      0  @VirginAmerica I didn't today... Must mean I n...\n",
      "3                     -1  @VirginAmerica it's really aggressive to blast...\n",
      "4                     -1  @VirginAmerica and it's a really big bad thing...\n",
      "5                     -1  @VirginAmerica seriously would pay $30 a fligh...\n",
      "6                      1  @VirginAmerica yes, nearly every time I fly VX...\n",
      "7                      0  @VirginAmerica Really missed a prime opportuni...\n",
      "8                      1    @virginamerica Well, I didn't…but NOW I DO! :-D\n",
      "9                      1  @VirginAmerica it was amazing, and arrived an ...\n",
      "10                     0  @VirginAmerica did you know that suicide is th...\n",
      "11                     1  @VirginAmerica I &lt;3 pretty graphics. so muc...\n",
      "12                     1  @VirginAmerica This is such a great deal! Alre...\n",
      "13                     1  @VirginAmerica @virginmedia I'm flying your #f...\n",
      "14                     1                             @VirginAmerica Thanks!\n",
      "15                    -1      @VirginAmerica SFO-PDX schedule is still MIA.\n",
      "16                     1  @VirginAmerica So excited for my first cross c...\n",
      "17                    -1  @VirginAmerica  I flew from NYC to SFO last we...\n",
      "18                     1                    I ❤️ flying @VirginAmerica. ☺️👍\n",
      "19                     1  @VirginAmerica you know what would be amazingl...\n",
      "20                    -1  @VirginAmerica why are your first fares in May...\n",
      "21                     1  @VirginAmerica I love this graphic. http://t.c...\n",
      "22                     1  @VirginAmerica I love the hipster innovation. ...\n",
      "23                     0  @VirginAmerica will you be making BOS&gt;LAS n...\n",
      "24                    -1  @VirginAmerica you guys messed up my seating.....\n",
      "25                    -1  @VirginAmerica status match program.  I applie...\n",
      "26                    -1  @VirginAmerica What happened 2 ur vegan food o...\n",
      "27                     0  @VirginAmerica do you miss me? Don't worry we'...\n",
      "28                    -1  @VirginAmerica amazing to me that we can't get...\n",
      "29                     0  @VirginAmerica LAX to EWR - Middle seat on a r...\n",
      "...                  ...                                                ...\n",
      "14610                 -1  @AmericanAir I understand the weather issue bu...\n",
      "14611                  0  @AmericanAir guarantee no retribution? If so, ...\n",
      "14612                 -1  @AmericanAir a friend is having flight Cancell...\n",
      "14613                 -1  @AmericanAir I used the \"call back\" feature wi...\n",
      "14614                 -1  @AmericanAir I need to be at work tomorrow at ...\n",
      "14615                 -1  @AmericanAir  ugh Dump us in dfw w/no luggage ...\n",
      "14616                 -1  @AmericanAir Cancelled Flights my flight, does...\n",
      "14617                  1            @AmericanAir DMing you now! Big thanks.\n",
      "14618                 -1  @AmericanAir 3078 is overweight so you pull 2 ...\n",
      "14619                  1  @AmericanAir I love your company and your staf...\n",
      "14620                 -1  @AmericanAir I wait 2+ hrs for CS to call me b...\n",
      "14621                 -1  @AmericanAir I've been on hold for 55 mins abo...\n",
      "14622                 -1  I just need a place to sleep when I land witho...\n",
      "14623                  1  @AmericanAir Love the new planes for the JFK-L...\n",
      "14624                 -1  @AmericanAir Call me Chairman, or call me Emer...\n",
      "14625                  1  @AmericanAir Flight 236 was great. Fantastic c...\n",
      "14626                 -1  @AmericanAir Flight 953 NYC-Buenos Aires has b...\n",
      "14627                 -1  @AmericanAir Flight Cancelled Flightled, can't...\n",
      "14628                  1  Thank you. “@AmericanAir: @jlhalldc Customer R...\n",
      "14629                 -1  @AmericanAir How do I change my flight if the ...\n",
      "14630                  1                        @AmericanAir Thanks! He is.\n",
      "14631                 -1  @AmericanAir thx for nothing on getting us out...\n",
      "14632                  0  “@AmericanAir: @TilleyMonsta George, that does...\n",
      "14633                 -1  @AmericanAir my flight was Cancelled Flightled...\n",
      "14634                 -1         @AmericanAir right on cue with the delays👌\n",
      "14635                  1  @AmericanAir thank you we got on a different f...\n",
      "14636                 -1  @AmericanAir leaving over 20 minutes Late Flig...\n",
      "14637                  0  @AmericanAir Please bring American Airlines to...\n",
      "14638                 -1  @AmericanAir you have my money, you change my ...\n",
      "14639                  0  @AmericanAir we have 8 ppl so we need 2 know h...\n",
      "\n",
      "[14640 rows x 2 columns]\n"
     ]
    },
    {
     "name": "stderr",
     "output_type": "stream",
     "text": [
      "c:\\users\\majed\\appdata\\local\\programs\\python\\python36\\lib\\site-packages\\pandas\\core\\frame.py:3795: SettingWithCopyWarning: \n",
      "A value is trying to be set on a copy of a slice from a DataFrame\n",
      "\n",
      "See the caveats in the documentation: http://pandas.pydata.org/pandas-docs/stable/indexing.html#indexing-view-versus-copy\n",
      "  method=method)\n"
     ]
    }
   ],
   "source": [
    "dataset = pd.read_csv(\"Tweets.csv\")\n",
    "documents = dataset[['airline_sentiment','text']]\n",
    "documents.replace({'neutral': 0, 'positive': 1, 'negative': -1}, inplace=True)\n",
    "print(documents)"
   ]
  },
  {
   "cell_type": "code",
   "execution_count": null,
   "metadata": {},
   "outputs": [],
   "source": []
  }
 ],
 "metadata": {
  "kernelspec": {
   "display_name": "Python 3",
   "language": "python",
   "name": "python3"
  },
  "language_info": {
   "codemirror_mode": {
    "name": "ipython",
    "version": 3
   },
   "file_extension": ".py",
   "mimetype": "text/x-python",
   "name": "python",
   "nbconvert_exporter": "python",
   "pygments_lexer": "ipython3",
   "version": "3.6.5"
  }
 },
 "nbformat": 4,
 "nbformat_minor": 2
}
