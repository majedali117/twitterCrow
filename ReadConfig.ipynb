{
 "cells": [
  {
   "cell_type": "code",
   "execution_count": 7,
   "metadata": {},
   "outputs": [],
   "source": [
    "import json\n",
    "import pandas as pd"
   ]
  },
  {
   "cell_type": "code",
   "execution_count": 9,
   "metadata": {},
   "outputs": [
    {
     "name": "stdout",
     "output_type": "stream",
     "text": [
      "Z1NihAjRxYkMOvBqBduU7DVzk\n",
      "[20]\n",
      "Tweets.csv\n",
      "14640\n"
     ]
    }
   ],
   "source": [
    "with open('config.json', 'r') as f:\n",
    "    config = json.load(f)\n",
    "\n",
    "consumer_key = config['TwitterConfig']['consumer_key']\n",
    "consumer_secret = config['TwitterConfig']['consumer_secret']\n",
    "access_token_key = config['TwitterConfig']['access_token_key']\n",
    "access_token_secret = config['TwitterConfig']['access_token_secret']\n",
    "\n",
    "Param_No_of_Topics = config['Parameters']['No_of_Topics']\n",
    "Param_No_of_Anotators = config['Parameters']['No_of_Anotators']\n",
    "Param_UseSimulator = config['Parameters']['UseSimulator']\n",
    "\n",
    "DS_FileName = config['DataSetDetails']['FileName']\n",
    "DS_TweetColumnName = config['DataSetDetails']['TweetColumnName']\n",
    "DS_SentimentColumn = config['DataSetDetails']['SentimentColumn']\n",
    "DS_PositiveSentiment = config['DataSetDetails']['PositiveSentiment']\n",
    "DS_NegativeSentiment = config['DataSetDetails']['NegativeSentiment']\n",
    "DS_NeutralSentiment = config['DataSetDetails']['NeutralSentiment']\n",
    "\n",
    "print(consumer_key)\n",
    "print(Param_No_of_Topics)\n",
    "print(DS_FileName)\n",
    "\n",
    "dataset = pd.read_csv(DS_FileName)\n",
    "documents = dataset[[DS_TweetColumnName,DS_SentimentColumn]]\n",
    "\n",
    "print(len(dataset[DS_TweetColumnName]))"
   ]
  },
  {
   "cell_type": "code",
   "execution_count": null,
   "metadata": {},
   "outputs": [],
   "source": []
  }
 ],
 "metadata": {
  "kernelspec": {
   "display_name": "Python 3",
   "language": "python",
   "name": "python3"
  },
  "language_info": {
   "codemirror_mode": {
    "name": "ipython",
    "version": 3
   },
   "file_extension": ".py",
   "mimetype": "text/x-python",
   "name": "python",
   "nbconvert_exporter": "python",
   "pygments_lexer": "ipython3",
   "version": "3.6.5"
  }
 },
 "nbformat": 4,
 "nbformat_minor": 2
}
