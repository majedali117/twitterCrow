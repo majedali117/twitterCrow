{
 "cells": [
  {
   "cell_type": "code",
   "execution_count": 26,
   "metadata": {},
   "outputs": [
    {
     "name": "stdout",
     "output_type": "stream",
     "text": [
      "(14640, 10)\n",
      "(10, 1683)\n"
     ]
    }
   ],
   "source": [
    "import numpy as np\n",
    "import pandas as pd\n",
    "from sklearn.datasets import fetch_20newsgroups\n",
    " \n",
    "from sklearn.feature_extraction.text import TfidfVectorizer\n",
    " \n",
    "from sklearn.decomposition import NMF\n",
    " \n",
    "#data= fetch_20newsgroups(remove=('headers', 'footers', 'quotes')).data\n",
    "dataset = pd.read_csv(\"Tweets.csv\")\n",
    "data = dataset['text']\n",
    "# convert the text to a tf-idf weighted term-document matrix\n",
    " \n",
    "vectorizer = TfidfVectorizer(max_features=2000, min_df=10, stop_words='english')\n",
    " \n",
    "X = vectorizer.fit_transform(data)\n",
    " \n",
    "idx_to_word = np.array(vectorizer.get_feature_names())\n",
    " \n",
    "# apply NMF\n",
    " \n",
    "nmf = NMF(n_components=10, init='random', tol=1, random_state=0, max_iter = 200)\n",
    " \n",
    "W = nmf.fit_transform(X)\n",
    " \n",
    "H = nmf.components_\n",
    " \n",
    "# print the topics\n",
    " \n",
    "#for i, topic in enumerate(H):\n",
    " \n",
    " #   print(\"Topic {}: {}\".format(i + 1, \",\".join([str(x) for x in idx_to_word[topic.argsort()[-10:]]])))\n",
    "print(W.shape)\n",
    "print(H.shape)\n",
    "np.savetxt(\"W.csv\", W, delimiter=\",\")\n",
    "np.savetxt(\"H.csv\", W, delimiter=\",\")"
   ]
  },
  {
   "cell_type": "code",
   "execution_count": null,
   "metadata": {},
   "outputs": [],
   "source": []
  }
 ],
 "metadata": {
  "kernelspec": {
   "display_name": "Python 3",
   "language": "python",
   "name": "python3"
  },
  "language_info": {
   "codemirror_mode": {
    "name": "ipython",
    "version": 3
   },
   "file_extension": ".py",
   "mimetype": "text/x-python",
   "name": "python",
   "nbconvert_exporter": "python",
   "pygments_lexer": "ipython3",
   "version": "3.6.5"
  }
 },
 "nbformat": 4,
 "nbformat_minor": 2
}
