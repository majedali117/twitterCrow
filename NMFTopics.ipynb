{
 "cells": [
  {
   "cell_type": "code",
   "execution_count": null,
   "metadata": {},
   "outputs": [
    {
     "name": "stderr",
     "output_type": "stream",
     "text": [
      "b'Skipping line 8834: expected 4 fields, saw 7\\nSkipping line 8836: expected 4 fields, saw 5\\n'\n",
      "b'Skipping line 535882: expected 4 fields, saw 7\\n'\n"
     ]
    }
   ],
   "source": [
    "import numpy as np\n",
    "import pandas as pd\n",
    "from sklearn.datasets import fetch_20newsgroups\n",
    " \n",
    "from sklearn.feature_extraction.text import TfidfVectorizer\n",
    " \n",
    "from sklearn.decomposition import NMF\n",
    " \n",
    "#data= fetch_20newsgroups(remove=('headers', 'footers', 'quotes')).data\n",
    "#dataset = pd.read_csv(\"Tweets.csv\")\n",
    "#data = dataset['text']\n",
    "\n",
    "dataset = pd.read_csv(\"SentimentAnalysisDataset.csv\", error_bad_lines=False)\n",
    "data = dataset['SentimentText']\n",
    "# convert the text to a tf-idf weighted term-document matrix\n",
    " \n",
    "vectorizer = TfidfVectorizer(stop_words='english')\n",
    " \n",
    "X = vectorizer.fit_transform(data)\n",
    " \n",
    "idx_to_word = np.array(vectorizer.get_feature_names())\n",
    " \n",
    "# apply NMF\n",
    " \n",
    "nmf = NMF(n_components=200, init='random', tol=1, random_state=0, max_iter = 200)\n",
    " \n",
    "W = nmf.fit_transform(X)\n",
    " \n",
    "H = nmf.components_\n",
    " \n",
    "# print the topics\n",
    " \n",
    "for i, topic in enumerate(H):\n",
    " \n",
    "    print(\"Topic {}: {}\".format(i + 1, \",\".join([str(x) for x in idx_to_word[topic.argsort()[-10:]]])))\n",
    "#print(W.shape)\n",
    "#print(H.shape)"
   ]
  },
  {
   "cell_type": "code",
   "execution_count": null,
   "metadata": {},
   "outputs": [],
   "source": []
  }
 ],
 "metadata": {
  "kernelspec": {
   "display_name": "Python 3",
   "language": "python",
   "name": "python3"
  },
  "language_info": {
   "codemirror_mode": {
    "name": "ipython",
    "version": 3
   },
   "file_extension": ".py",
   "mimetype": "text/x-python",
   "name": "python",
   "nbconvert_exporter": "python",
   "pygments_lexer": "ipython3",
   "version": "3.6.5"
  }
 },
 "nbformat": 4,
 "nbformat_minor": 2
}
