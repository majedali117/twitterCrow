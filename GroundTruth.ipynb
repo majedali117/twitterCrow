{
 "cells": [
  {
   "cell_type": "code",
   "execution_count": 1,
   "metadata": {},
   "outputs": [],
   "source": [
    "import pandas as pd\n",
    "import re"
   ]
  },
  {
   "cell_type": "code",
   "execution_count": 20,
   "metadata": {},
   "outputs": [
    {
     "name": "stderr",
     "output_type": "stream",
     "text": [
      "c:\\users\\majed\\appdata\\local\\programs\\python\\python36\\lib\\site-packages\\pandas\\core\\frame.py:3795: SettingWithCopyWarning: \n",
      "A value is trying to be set on a copy of a slice from a DataFrame\n",
      "\n",
      "See the caveats in the documentation: http://pandas.pydata.org/pandas-docs/stable/indexing.html#indexing-view-versus-copy\n",
      "  method=method)\n",
      "b'Skipping line 8834: expected 4 fields, saw 7\\nSkipping line 8836: expected 4 fields, saw 5\\n'\n",
      "b'Skipping line 535882: expected 4 fields, saw 7\\n'\n"
     ]
    },
    {
     "name": "stdout",
     "output_type": "stream",
     "text": [
      "         Sentiment                                      SentimentText\n",
      "0                0                       is so sad for my APL frie...\n",
      "1                0                     I missed the New Moon trail...\n",
      "2                1                            omg its already 7:30 :O\n",
      "3                0            .. Omgaga. Im sooo  im gunna CRy. I'...\n",
      "4                0           i think mi bf is cheating on me!!!   ...\n",
      "5                0                  or i just worry too much?        \n",
      "6                1                 Juuuuuuuuuuuuuuuuussssst Chillin!!\n",
      "7                0         Sunny Again        Work Tomorrow  :-|  ...\n",
      "8                1        handed in my uniform today . i miss you ...\n",
      "9                1           hmmmm.... i wonder how she my number @-)\n",
      "10               0                      I must think about positive..\n",
      "11               1        thanks to all the haters up in my face a...\n",
      "12               0                     this weekend has sucked so far\n",
      "13               0             jb isnt showing in australia any more!\n",
      "14               0                               ok thats it you win.\n",
      "15               0      &lt;-------- This is the way i feel right ...\n",
      "16               0      awhhe man.... I'm completely useless rt no...\n",
      "17               1      Feeling strangely fine. Now I'm gonna go l...\n",
      "18               0       HUGE roll of thunder just now...SO scary!!!!\n",
      "19               0      I just cut my beard off. It's only been gr...\n",
      "20               0                               Very sad about Iran.\n",
      "21               0                                      wompppp wompp\n",
      "22               1      You're the only one who can see this cause...\n",
      "23               0     &lt;---Sad level is 3. I was writing a mass...\n",
      "24               0     ...  Headed to Hospitol : Had to pull out o...\n",
      "25               0     BoRinG   ): whats wrong with him??     Plea...\n",
      "26               0     can't be bothered. i wish i could spend the...\n",
      "27               0     Feeeling like shit right now. I really want...\n",
      "28               1              goodbye exams, HELLO ALCOHOL TONIGHT \n",
      "29               0     I didn't realize it was THAT deep. Geez giv...\n",
      "...            ...                                                ...\n",
      "1578581          1  zoo was rad today. feeling tired and not motiv...\n",
      "1578582          1                                Zoo with the woman \n",
      "1578583          0  zoolander and alice in wonderland. i have a ki...\n",
      "1578584          1  Zoom zoom! Back to bristol today I have my bea...\n",
      "1578585          0  zootm: cannot survive without CRLF support  - ...\n",
      "1578586          0  Zoran lost Croatian Idol!  The difference was ...\n",
      "1578587          0                          Zork. Buggy beta version \n",
      "1578588          1  Zow, finished uploading pictures on Flickr and...\n",
      "1578589          1                               Zrock was awesome!! \n",
      "1578590          1                       ZTecWiz bought mIRC for $10 \n",
      "1578591          1  'Zu SpÃ¤t' by Die Ã„rzte. One of the best band...\n",
      "1578592          1  Zuma bitch tomorrow. Have a wonderful night ev...\n",
      "1578593          0  zummie's couch tour was amazing....to bad i ha...\n",
      "1578594          0  ZuneHD looks great! OLED screen @720p, HDMI, o...\n",
      "1578595          1            zup there ! learning a new magic trick \n",
      "1578596          1                          zyklonic showers   *evil*\n",
      "1578597          1  ZZ Top â€“ I Thank You ...@hawaiibuzz   .....T...\n",
      "1578598          0      zzz time. Just wish my love could B nxt 2 me \n",
      "1578599          1  zzz twitter. good day today. got a lot accompl...\n",
      "1578600          1   zzz's time, goodnight.  http://plurk.com/p/ri9qn\n",
      "1578601          0  Zzzz lying in bed watching the countryside thr...\n",
      "1578602          1  Zzzz... Fuck Ã¼ : Zzzz... Fuck Ã¼  http://bit....\n",
      "1578603          1                  Zzzz...no work tomorrow..yayyy!! \n",
      "1578604          1  ZZZZZ time.. Tomorrow will be a busy day for s...\n",
      "1578605          0  Zzzzz want to sleep but at sister's in-laws's ...\n",
      "1578606          1               Zzzzzz.... Finally! Night tweeters! \n",
      "1578607          1                        Zzzzzzz, sleep well people \n",
      "1578608          0            ZzzZzZzzzZ... wait no I have homework. \n",
      "1578609          0      ZzZzzzZZZZzzz meh, what am I doing up again? \n",
      "1578610          0                       Zzzzzzzzzzzzzzzzzzz, I wish \n",
      "\n",
      "[1578611 rows x 2 columns]\n"
     ]
    }
   ],
   "source": [
    "dataset = pd.read_csv(\"Tweets.csv\")\n",
    "documents = dataset[['airline_sentiment','text']]\n",
    "documents.replace({'neutral': 0, 'positive': 1, 'negative': -1}, inplace=True)\n",
    "\n",
    "dataset2 = pd.read_csv(\"SentimentAnalysisDataset.csv\", error_bad_lines=False)\n",
    "documents2 = dataset2[['Sentiment','SentimentText']]\n",
    "print(documents2)"
   ]
  },
  {
   "cell_type": "code",
   "execution_count": null,
   "metadata": {},
   "outputs": [],
   "source": []
  }
 ],
 "metadata": {
  "kernelspec": {
   "display_name": "Python 3",
   "language": "python",
   "name": "python3"
  },
  "language_info": {
   "codemirror_mode": {
    "name": "ipython",
    "version": 3
   },
   "file_extension": ".py",
   "mimetype": "text/x-python",
   "name": "python",
   "nbconvert_exporter": "python",
   "pygments_lexer": "ipython3",
   "version": "3.6.5"
  }
 },
 "nbformat": 4,
 "nbformat_minor": 2
}
